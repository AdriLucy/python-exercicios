{
 "cells": [
  {
   "cell_type": "markdown",
   "metadata": {},
   "source": [
    "1. Faça um Programa que leia um vetor de 5 números inteiros e mostre-os."
   ]
  },
  {
   "cell_type": "code",
   "execution_count": 1,
   "metadata": {},
   "outputs": [
    {
     "name": "stdout",
     "output_type": "stream",
     "text": [
      "[2, 6, 4, 9, 8]\n"
     ]
    }
   ],
   "source": [
    "numeros = []\n",
    "for n in range(5):\n",
    "    numeros.append(int(input(f\"Informe o numero para a posicao {n+1}: \")))\n",
    "print(numeros)"
   ]
  },
  {
   "cell_type": "markdown",
   "metadata": {},
   "source": [
    "2. Faça um Programa que leia um vetor de 10 números reais e mostre-os na ordem inversa."
   ]
  },
  {
   "cell_type": "code",
   "execution_count": 4,
   "metadata": {},
   "outputs": [
    {
     "name": "stdout",
     "output_type": "stream",
     "text": [
      "[4, 6, 2, 4, 7, 8, 4, 5, 2, 3]\n",
      "[8, 7, 6, 5, 4, 4, 4, 3, 2, 2]\n"
     ]
    }
   ],
   "source": [
    "numeros = []\n",
    "for n in range(10):\n",
    "    numeros.append(int(input(f\"Informe o numero para a posicao {n+1}: \")))\n",
    "\n",
    "print(numeros)\n",
    "numeros.sort(reverse=True)\n",
    "print(numeros)"
   ]
  },
  {
   "cell_type": "markdown",
   "metadata": {},
   "source": [
    "3. Faça um Programa que leia 4 notas, mostre as notas e a média na tela."
   ]
  },
  {
   "cell_type": "code",
   "execution_count": 5,
   "metadata": {},
   "outputs": [
    {
     "name": "stdout",
     "output_type": "stream",
     "text": [
      "notas: [5, 7, 6, 10], media: 7.0\n"
     ]
    }
   ],
   "source": [
    "numeros = []\n",
    "for n in range(4):\n",
    "    numeros.append(int(input(f\"Informe o numero para a nota {n+1}: \")))\n",
    "media = sum(numeros)/len(numeros)\n",
    "print(f\"notas: {numeros}, media: {media}\")"
   ]
  },
  {
   "cell_type": "markdown",
   "metadata": {},
   "source": [
    "4. Faça um Programa que leia um vetor de 10 caracteres, e diga quantas consoantes foram lidas. Imprima as consoantes."
   ]
  },
  {
   "cell_type": "code",
   "execution_count": 7,
   "metadata": {},
   "outputs": [
    {
     "name": "stdout",
     "output_type": "stream",
     "text": [
      "testando programa\n",
      "['t', 's', 't', 'n', 'd', ' ', 'p', 'r', 'g', 'r', 'm']\n"
     ]
    }
   ],
   "source": [
    "palavra = input('escreva algo: ')\n",
    "\n",
    "vogal = ['a','e','i','o','u']\n",
    "consoantes = []\n",
    "for i in range(len(palavra)):\n",
    "    if(palavra[i] not in vogal):\n",
    "        consoantes.append(palavra[i])\n",
    "print(palavra)\n",
    "print(consoantes)"
   ]
  },
  {
   "cell_type": "markdown",
   "metadata": {},
   "source": [
    "5. Faça um Programa que leia 20 números inteiros e armazene-os num vetor. Armazene os números pares no vetor PAR e os números IMPARES no vetor impar. Imprima os três vetores."
   ]
  },
  {
   "cell_type": "code",
   "execution_count": 10,
   "metadata": {},
   "outputs": [
    {
     "name": "stdout",
     "output_type": "stream",
     "text": [
      "numeros: [5, 6, 4, 8, 3, 4, 5, 6, 1, 3, 7, 9, 8, 5, 6, 3, 1, 2, 4, 5]\n",
      "pares: [6, 4, 8, 4, 6, 8, 6, 2, 4]\n",
      "impares: [5, 3, 5, 1, 3, 7, 9, 5, 3, 1, 5]\n"
     ]
    }
   ],
   "source": [
    "numeros = []\n",
    "pares = []\n",
    "impares = []\n",
    "\n",
    "for n in range(20):\n",
    "    numeros.append(int(input(f\"Digite um numero para a posicao {n+1}\")))\n",
    "\n",
    "    if((numeros[n] % 2) == 0):\n",
    "        pares.append(numeros[n])\n",
    "    else:\n",
    "        impares.append(numeros[n])\n",
    "\n",
    "print(f\"numeros: {numeros}\\npares: {pares}\\nimpares: {impares}\")"
   ]
  },
  {
   "cell_type": "markdown",
   "metadata": {},
   "source": [
    "6. Faça um Programa que peça as 5 notas de 4 alunos, calcule e armazene num vetor a média de cada aluno, imprima o número de alunos com média maior ou igual a 7.0."
   ]
  },
  {
   "cell_type": "code",
   "execution_count": 2,
   "metadata": {},
   "outputs": [
    {
     "name": "stdout",
     "output_type": "stream",
     "text": [
      "Alunos aprovados\n",
      "aluno [9, 8, 10, 7, 8]: media: 8.4\n",
      "aluno [9, 6, 5, 8, 7]: media: 7.0\n",
      "aluno [9, 8, 6, 10, 8]: media: 8.2\n",
      "aluno [9, 8, 6, 7, 10]: media: 8.0\n",
      "nota dos alunos: [[9, 8, 10, 7, 8], [9, 6, 5, 8, 7], [9, 8, 6, 10, 8], [9, 8, 6, 7, 10]]\n",
      "media: [8.4, 7.0, 8.2, 8.0]\n"
     ]
    }
   ],
   "source": [
    "notas_alunos = [[],[],[],[]]\n",
    "for a in range(4):\n",
    "    for n in range(5):\n",
    "        notas_alunos[a].append(int(input(f'insira a nota {n+1} de {a+1}: ')))\n",
    "media = []\n",
    "print(\"Alunos aprovados\")\n",
    "for alunos in notas_alunos:\n",
    "    media_aluno = sum(alunos)/len(alunos)\n",
    "    media.append(media_aluno)\n",
    "    if(media_aluno>=7):\n",
    "        print(f\"aluno {alunos}: media: {media_aluno}\")\n",
    "\n",
    "print(f\"nota dos alunos: {notas_alunos}\")\n",
    "print(f\"media: {media}\")"
   ]
  },
  {
   "cell_type": "markdown",
   "metadata": {},
   "source": [
    "7. Faça um Programa que leia um vetor de 5 números inteiros, mostre a soma, a multiplicação e os números."
   ]
  },
  {
   "cell_type": "code",
   "execution_count": 4,
   "metadata": {},
   "outputs": [
    {
     "name": "stdout",
     "output_type": "stream",
     "text": [
      "os numeros: [9, 8, 68746, 45, 8]\n",
      "soma: 68816\n",
      "multiplicação: 222737040\n"
     ]
    }
   ],
   "source": [
    "vetor = []\n",
    "for i in range(5):\n",
    "    vetor.append(int(input(f\"informe o numero para a posição {i+1}: \")))\n",
    "\n",
    "soma = sum(vetor)\n",
    "multiplicacao = vetor[0]*vetor[1]*vetor[2]*vetor[3]\n",
    "print(f\"os numeros: {vetor}\\nsoma: {soma}\\nmultiplicação: {multiplicacao}\")"
   ]
  },
  {
   "cell_type": "markdown",
   "metadata": {},
   "source": [
    "8. Faça um Programa que peça a idade e a altura de 5 pessoas, armazene cada informação no seu respectivo vetor. Imprima a idade e a altura na ordem inversa a ordem lida."
   ]
  },
  {
   "cell_type": "code",
   "execution_count": 6,
   "metadata": {},
   "outputs": [
    {
     "name": "stdout",
     "output_type": "stream",
     "text": [
      "idade :[50, 12, 36, 23, 22]\n",
      "altura: [1.6, 1.2, 2.1, 1.9, 1.75]\n"
     ]
    }
   ],
   "source": [
    "idade = []\n",
    "altura = []\n",
    "\n",
    "for i in range(5):\n",
    "    idade.append(int(input(f\"Informe a idade da {i+1}ª pessoa: \")))\n",
    "    altura.append(float(input(f\"Informe a altura da {i+1}ª pessoa: \")))\n",
    "\n",
    "idade.reverse()\n",
    "altura.reverse()\n",
    "\n",
    "print(f\"idade :{idade}\\naltura: {altura}\")"
   ]
  },
  {
   "cell_type": "markdown",
   "metadata": {},
   "source": [
    "9. Faça um Programa que leia dois vetores com 10 elementos cada. Gere um terceiro vetor de 20 elementos, cujos valores deverão ser compostos pelos elementos intercalados dos dois outros vetores."
   ]
  },
  {
   "cell_type": "code",
   "execution_count": 11,
   "metadata": {},
   "outputs": [
    {
     "name": "stdout",
     "output_type": "stream",
     "text": [
      "[2, 6, 9, 7, 8, 6, 8, 9, 1, 5]\n",
      "[8, 6, 7, 9, 8, 6, 4, 8, 3, 2]\n",
      "[2, 8, 6, 6, 9, 7, 7, 9, 8, 8, 6, 6, 8, 4, 9, 8, 1, 3, 5, 2]\n"
     ]
    }
   ],
   "source": [
    "vetor_a = [2,6,9,7,8,6,8,9,1,5]\n",
    "vetor_b = [8,6,7,9,8,6,4,8,3,2]\n",
    "vetor_c = []\n",
    "\n",
    "for i in range(10):\n",
    "    vetor_c.append(vetor_a[i])\n",
    "    vetor_c.append(vetor_b[i])\n",
    "\n",
    "print(vetor_a)\n",
    "print(vetor_b)\n",
    "print(vetor_c)"
   ]
  },
  {
   "cell_type": "markdown",
   "metadata": {},
   "source": [
    "10. Utilizando listas faça um programa que faça 5 perguntas para uma pessoa sobre um crime. As perguntas são:\n",
    "\"Telefonou para a vítima?\"\n",
    "\"Esteve no local do crime?\"\n",
    "\"Mora perto da vítima?\"\n",
    "\"Devia para a vítima?\"\n",
    "\"Já trabalhou com a vítima?\" O programa deve no final emitir uma classificação sobre a participação da pessoa no crime. Se a pessoa responder positivamente a 2 questões ela deve ser classificada como \"Suspeita\", entre 3 e 4 como \"Cúmplice\" e 5 como \"Assassino\". Caso contrário, ele será classificado como \"Inocente\".\n"
   ]
  },
  {
   "cell_type": "code",
   "execution_count": 14,
   "metadata": {},
   "outputs": [
    {
     "name": "stdout",
     "output_type": "stream",
     "text": [
      "Responda com 1 para sim e 0 para não as seguintes perguntas\n",
      "suspeita\n"
     ]
    }
   ],
   "source": [
    "perguntas = [\"Telefonou para a vítima?\",\"Esteve no local do crime?\",\"Mora perto da vítima?\",\"Devia para a vítima?\",\"Já trabalhou com a vítima?\"]\n",
    "pontuacao = 0\n",
    "\n",
    "print(\"Responda com 1 para sim e 0 para não as seguintes perguntas\")\n",
    "for pergunta in perguntas:\n",
    "    resposta = int(input(pergunta))\n",
    "    if(resposta==1):\n",
    "        pontuacao += 1\n",
    "    \n",
    "if(pontuacao==5):\n",
    "    print('assassino')\n",
    "elif(pontuacao>=3):\n",
    "    print('cumplice')\n",
    "elif(pontuacao>=2):\n",
    "    print(\"suspeita\")\n",
    "else:\n",
    "    print(\"inocente\")\n",
    "    \n"
   ]
  }
 ],
 "metadata": {
  "kernelspec": {
   "display_name": "Python 3",
   "language": "python",
   "name": "python3"
  },
  "language_info": {
   "codemirror_mode": {
    "name": "ipython",
    "version": 3
   },
   "file_extension": ".py",
   "mimetype": "text/x-python",
   "name": "python",
   "nbconvert_exporter": "python",
   "pygments_lexer": "ipython3",
   "version": "3.12.1"
  }
 },
 "nbformat": 4,
 "nbformat_minor": 2
}
