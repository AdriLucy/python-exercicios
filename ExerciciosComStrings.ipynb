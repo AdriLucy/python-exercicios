{
 "cells": [
  {
   "cell_type": "markdown",
   "metadata": {},
   "source": [
    "1. Tamanho de strings. Faça um programa que leia 2 strings e informe o conteúdo delas seguido do seu comprimento. Informe também se as duas strings possuem o mesmo comprimento e são iguais ou diferentes no conteúdo.\n",
    "\n",
    "Compara duas strings\n",
    "String 1: Brasil Hexa 2006\n",
    "String 2: Brasil! Hexa 2006!\n",
    "Tamanho de \"Brasil Hexa 2006\": 16 caracteres\n",
    "Tamanho de \"Brasil! Hexa 2006!\": 18 caracteres\n",
    "As duas strings são de tamanhos diferentes.\n",
    "As duas strings possuem conteúdo diferente."
   ]
  },
  {
   "cell_type": "code",
   "execution_count": 10,
   "metadata": {},
   "outputs": [
    {
     "name": "stdout",
     "output_type": "stream",
     "text": [
      "Compara duas string\n",
      "String 1: Brasil Hexa 2006\n",
      "String 2: Brasil! Hexa 2006!\n",
      "Tamanho de 'Brasil Hexa 2006' 16\n",
      "Tamanho de 'Brasil! Hexa 2006!' 18\n",
      "As duas strings são de tamanho diferente.\n",
      "As duas strings possuem conteúdo diferente.\n"
     ]
    }
   ],
   "source": [
    "str1 = 'Brasil Hexa 2006'\n",
    "str2 = 'Brasil! Hexa 2006!'\n",
    "\n",
    "\n",
    "def exericicio_1(string_1,string_2):\n",
    "    tam_string_1 = len(string_1)\n",
    "    tam_string_2 = len(string_2)\n",
    "\n",
    "    f1 = 'Compara duas string'\n",
    "    f2 = 'String'\n",
    "    f3 = 'Tamanho de'\n",
    "\n",
    "    if(tam_string_1==tam_string_2):\n",
    "        f4= \"As duas strings são do mesmo tamanho.\" \n",
    "    else:\n",
    "        f4= \"As duas strings são de tamanho diferente.\" \n",
    "\n",
    "    if(string_1==string_2):\n",
    "        f5 = 'As duas strings possuem conteúdo iguais.'\n",
    "    else:\n",
    "        f5 = 'As duas strings possuem conteúdo diferente.'\n",
    "    \n",
    "\n",
    "    return f\"{f1}\\n{f2} 1: {string_1}\\n{f2} 2: {string_2}\\n{f3} '{string_1}' {tam_string_1}\\n{f3} '{string_2}' {tam_string_2}\\n{f4}\\n{f5}\"\n",
    "\n",
    "print(exericicio_1(str1,str2))"
   ]
  },
  {
   "cell_type": "markdown",
   "metadata": {},
   "source": [
    "2. Nome ao contrário em maiúsculas. Faça um programa que permita ao usuário digitar o seu nome e em seguida mostre o nome do usuário de trás para frente utilizando somente letras maiúsculas. Dica: lembre−se que ao informar o nome o usuário pode digitar letras maiúsculas ou minúsculas."
   ]
  },
  {
   "cell_type": "code",
   "execution_count": 16,
   "metadata": {},
   "outputs": [
    {
     "data": {
      "text/plain": [
       "'ANAIRDA YCUL'"
      ]
     },
     "execution_count": 16,
     "metadata": {},
     "output_type": "execute_result"
    }
   ],
   "source": [
    "def exercicio_2(nome):\n",
    "    return nome.upper()[::-1] ##slicing\n",
    "\n",
    "nome = input(\"digite seu nome: \")\n",
    "exercicio_2(nome)\n",
    "    "
   ]
  },
  {
   "cell_type": "markdown",
   "metadata": {},
   "source": [
    "3. Nome na vertical. Faça um programa que solicite o nome do usuário e imprima-o na vertical.\n",
    "\n",
    "F\n",
    "U\n",
    "L\n",
    "A\n",
    "N\n",
    "O"
   ]
  },
  {
   "cell_type": "code",
   "execution_count": 34,
   "metadata": {},
   "outputs": [
    {
     "name": "stdout",
     "output_type": "stream",
     "text": [
      "f\n",
      "u\n",
      "l\n",
      "a\n",
      "n\n",
      "o\n"
     ]
    }
   ],
   "source": [
    "nome = input(\"digite o seu nome: \")\n",
    "\n",
    "def exercicio_3(nome):\n",
    "    for i in nome:\n",
    "        print(i)\n",
    "\n",
    "exercicio_3(nome)"
   ]
  },
  {
   "cell_type": "markdown",
   "metadata": {},
   "source": [
    "4. Nome na vertical em escada. Modifique o programa anterior de forma a mostrar o nome em formato de escada.\n",
    "\n",
    "F\n",
    "FU\n",
    "FUL\n",
    "FULA\n",
    "FULAN\n",
    "FULANO"
   ]
  },
  {
   "cell_type": "code",
   "execution_count": 49,
   "metadata": {},
   "outputs": [
    {
     "name": "stdout",
     "output_type": "stream",
     "text": [
      "f\n",
      "fu\n",
      "ful\n",
      "fula\n",
      "fulan\n",
      "fulano\n"
     ]
    }
   ],
   "source": [
    "nome = input(\"digite o seu nome: \")\n",
    "\n",
    "def exercicio_4(nome):\n",
    "    for i in range(len(nome)):\n",
    "        for j in range(i+1):\n",
    "            print(nome[j],end='')\n",
    "        print()\n",
    "\n",
    "exercicio_4(nome)"
   ]
  },
  {
   "cell_type": "markdown",
   "metadata": {},
   "source": [
    "5. Nome na vertical em escada invertida. Altere o programa anterior de modo que a escada seja invertida.\n",
    "\n",
    "FULANO\n",
    "FULAN\n",
    "FULA\n",
    "FUL\n",
    "FU\n",
    "F"
   ]
  },
  {
   "cell_type": "code",
   "execution_count": 4,
   "metadata": {},
   "outputs": [
    {
     "name": "stdout",
     "output_type": "stream",
     "text": [
      "6\n",
      "5\n",
      "4\n",
      "3\n",
      "2\n",
      "1\n"
     ]
    }
   ],
   "source": [
    "nome = input(\"digite o seu nome: \")\n",
    "\n",
    "def exercicio_4(nome):\n",
    "    for i in range(len(nome), 0, -1):\n",
    "        print(nome[:i].upper())\n",
    "        #print(i)\n",
    "\n",
    "exercicio_4(nome)"
   ]
  }
 ],
 "metadata": {
  "kernelspec": {
   "display_name": "Python 3",
   "language": "python",
   "name": "python3"
  },
  "language_info": {
   "codemirror_mode": {
    "name": "ipython",
    "version": 3
   },
   "file_extension": ".py",
   "mimetype": "text/x-python",
   "name": "python",
   "nbconvert_exporter": "python",
   "pygments_lexer": "ipython3",
   "version": "3.12.1"
  }
 },
 "nbformat": 4,
 "nbformat_minor": 2
}
