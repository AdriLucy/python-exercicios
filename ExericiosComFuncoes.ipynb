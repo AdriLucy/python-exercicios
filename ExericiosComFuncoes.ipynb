{
 "cells": [
  {
   "cell_type": "markdown",
   "metadata": {},
   "source": [
    "Faça um programa para imprimir:\n",
    "    1\n",
    "    2   2\n",
    "    3   3   3\n",
    "    .....\n",
    "    n   n   n   n   n   n  ... n\n",
    "para um n informado pelo usuário. Use uma função que receba um valor n inteiro e imprima até a n-ésima linha."
   ]
  },
  {
   "cell_type": "code",
   "execution_count": 31,
   "metadata": {},
   "outputs": [
    {
     "name": "stdout",
     "output_type": "stream",
     "text": [
      "\n",
      "1 \n",
      "2 2 \n",
      "3 3 3 \n",
      "4 4 4 4 \n",
      "5 5 5 5 5 \n",
      "6 6 6 6 6 6 \n"
     ]
    }
   ],
   "source": [
    "n = int(input(\"informe um valor para n: \"))\n",
    "def exercicio_1(n):\n",
    "    for i in range(n+1):\n",
    "        print(f\"{str(i)} \" * i)\n",
    "\n",
    "exercicio_1(n)"
   ]
  },
  {
   "cell_type": "markdown",
   "metadata": {},
   "source": [
    "Faça um programa para imprimir:\n",
    "    1\n",
    "    1   2\n",
    "    1   2   3\n",
    "    .....\n",
    "    1   2   3   ...  n\n",
    "para um n informado pelo usuário. Use uma função que receba um valor n inteiro imprima até a n-ésima linha."
   ]
  },
  {
   "cell_type": "code",
   "execution_count": 39,
   "metadata": {},
   "outputs": [
    {
     "name": "stdout",
     "output_type": "stream",
     "text": [
      "1 1 2 1 2 3 "
     ]
    }
   ],
   "source": [
    "n = int(input(\"informe um valor para n: \"))\n",
    "def exercicio_2(n):\n",
    "    for i in range(1, n + 1):\n",
    "        for j in range(1,i+1):\n",
    "            print(j, end=' ')\n",
    "        print()\n",
    "\n",
    "exercicio_2(n)"
   ]
  },
  {
   "cell_type": "markdown",
   "metadata": {},
   "source": [
    "3. Faça um programa, com uma função que necessite de três argumentos, e que forneça a soma desses três argumentos."
   ]
  },
  {
   "cell_type": "code",
   "execution_count": 47,
   "metadata": {},
   "outputs": [
    {
     "data": {
      "text/plain": [
       "29"
      ]
     },
     "execution_count": 47,
     "metadata": {},
     "output_type": "execute_result"
    }
   ],
   "source": [
    "def soma(a,b,c):\n",
    "    resultado = a + b + c\n",
    "    return resultado\n",
    "\n",
    "soma(15,5,9)"
   ]
  },
  {
   "cell_type": "markdown",
   "metadata": {},
   "source": [
    "4. Faça um programa, com uma função que necessite de um argumento. A função retorna o valor de caractere ‘P’, se seu argumento for positivo, e ‘N’, se seu argumento for zero ou negativo."
   ]
  },
  {
   "cell_type": "code",
   "execution_count": 46,
   "metadata": {},
   "outputs": [
    {
     "name": "stdout",
     "output_type": "stream",
     "text": [
      "resultado para 4: P\n",
      "resultado para 0: N\n",
      "resultado para -5: N\n"
     ]
    }
   ],
   "source": [
    "def exercicio_4(n):\n",
    "    if(n>0):\n",
    "        return \"P\"\n",
    "    else:\n",
    "        return \"N\"\n",
    "    \n",
    "print(f\"resultado para 4: {exercicio_4(4)}\")\n",
    "print(f\"resultado para 0: {exercicio_4(0)}\")\n",
    "print(f\"resultado para -5: {exercicio_4(-5)}\")"
   ]
  },
  {
   "cell_type": "markdown",
   "metadata": {},
   "source": [
    "5. Faça um programa com uma função chamada somaImposto. A função possui dois parâmetros formais: taxaImposto, que é a quantia de imposto sobre vendas expressa em porcentagem e custo, que é o custo de um item antes do imposto. A função “altera” o valor de custo para incluir o imposto sobre vendas.\n"
   ]
  },
  {
   "cell_type": "code",
   "execution_count": 50,
   "metadata": {},
   "outputs": [
    {
     "data": {
      "text/plain": [
       "85.0"
      ]
     },
     "execution_count": 50,
     "metadata": {},
     "output_type": "execute_result"
    }
   ],
   "source": [
    "def somaImposto(taxaImposto, custo):\n",
    "    resultado = custo * (1-taxaImposto)\n",
    "    return resultado\n",
    "\n",
    "somaImposto(0.15,100)"
   ]
  },
  {
   "cell_type": "code",
   "execution_count": null,
   "metadata": {},
   "outputs": [],
   "source": [
    "    \n"
   ]
  }
 ],
 "metadata": {
  "kernelspec": {
   "display_name": "Python 3",
   "language": "python",
   "name": "python3"
  },
  "language_info": {
   "codemirror_mode": {
    "name": "ipython",
    "version": 3
   },
   "file_extension": ".py",
   "mimetype": "text/x-python",
   "name": "python",
   "nbconvert_exporter": "python",
   "pygments_lexer": "ipython3",
   "version": "3.12.1"
  }
 },
 "nbformat": 4,
 "nbformat_minor": 2
}
