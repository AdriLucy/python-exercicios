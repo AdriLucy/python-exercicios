{
 "cells": [
  {
   "cell_type": "markdown",
   "metadata": {},
   "source": [
    "1. Faça um Programa que peça dois números e imprima o maior deles."
   ]
  },
  {
   "cell_type": "code",
   "execution_count": 3,
   "metadata": {},
   "outputs": [
    {
     "name": "stdout",
     "output_type": "stream",
     "text": [
      "a: 20 é igual a b: 20\n"
     ]
    }
   ],
   "source": [
    "a = int(input('informe um número para a: '))\n",
    "b = int(input('informe um número para b: '))\n",
    "\n",
    "if(a>b):\n",
    "    print(f\"a:{a} é maior que b:{b}\")\n",
    "elif(a==b):\n",
    "    print(f\"a:{a} é igual a b:{b}\")\n",
    "else:\n",
    "    print(f\"a:{a} é menor que b:{b}\")"
   ]
  },
  {
   "cell_type": "markdown",
   "metadata": {},
   "source": [
    "2. Faça um Programa que peça um valor e mostre na tela se o valor é positivo ou negativo."
   ]
  },
  {
   "cell_type": "code",
   "execution_count": 6,
   "metadata": {},
   "outputs": [
    {
     "name": "stdout",
     "output_type": "stream",
     "text": [
      "-5 é impar\n"
     ]
    }
   ],
   "source": [
    "a = int(input('informe um número: '))\n",
    "\n",
    "if(a<0):\n",
    "    print(f\"{a} é impar\")\n",
    "else:\n",
    "    print(f\"{a} é par\")"
   ]
  },
  {
   "cell_type": "markdown",
   "metadata": {},
   "source": [
    "3. Faça um Programa que verifique se uma letra digitada é \"F\" ou \"M\". Conforme a letra escrever: F - Feminino, M - Masculino, Sexo Inválido."
   ]
  },
  {
   "cell_type": "code",
   "execution_count": 14,
   "metadata": {},
   "outputs": [
    {
     "name": "stdout",
     "output_type": "stream",
     "text": [
      "Genero invalido\n"
     ]
    }
   ],
   "source": [
    "genero = input(\"informe seu genero: F - Feminino, M - Masculino, O - Outros\" )\n",
    "\n",
    "if(genero==\"F\" or genero == \"f\"):\n",
    "    print(\"seu genero é feminino\")\n",
    "elif(genero==\"M\" or genero == \"m\"):\n",
    "    print(\"seu genero é masculino\")\n",
    "elif(genero==\"O\" or genero==\"o\"):\n",
    "    print(\"seu genero é outros\")\n",
    "else:\n",
    "    print(\"Genero invalido\")\n"
   ]
  },
  {
   "cell_type": "markdown",
   "metadata": {},
   "source": [
    "4. Faça um Programa que verifique se uma letra digitada é vogal ou consoante."
   ]
  },
  {
   "cell_type": "code",
   "execution_count": 17,
   "metadata": {},
   "outputs": [
    {
     "name": "stdout",
     "output_type": "stream",
     "text": [
      "a letra a é vogal\n"
     ]
    }
   ],
   "source": [
    "letra = input(\"informe uma letra\")\n",
    "vogal = ['a','e','i','o','u']\n",
    "if(letra in vogal):\n",
    "    print(f\"a letra {letra} é vogal\")\n",
    "else:\n",
    "    print(f\"a letra {letra} é consoante\")"
   ]
  },
  {
   "cell_type": "markdown",
   "metadata": {},
   "source": [
    "5. Faça um programa para a leitura de duas notas parciais de um aluno. O programa deve calcular a média alcançada por aluno e apresentar:\n",
    "A mensagem \"Aprovado\", se a média alcançada for maior ou igual a sete;\n",
    "A mensagem \"Reprovado\", se a média for menor do que sete;\n",
    "A mensagem \"Aprovado com Distinção\", se a média for igual a dez.\n"
   ]
  },
  {
   "cell_type": "code",
   "execution_count": 21,
   "metadata": {},
   "outputs": [
    {
     "name": "stdout",
     "output_type": "stream",
     "text": [
      "media = 5.5! reprovado\n"
     ]
    }
   ],
   "source": [
    "a = float(input(\"insira a primeira nota: \"))\n",
    "b = float(input(\"insira a segunda nota: \"))\n",
    "\n",
    "media = (a+b)/2\n",
    "\n",
    "if(media==10):\n",
    "    print(f\"media = {media} aprovado com distinção\")\n",
    "elif(media>=7):\n",
    "    print(f\"media = {media} aprovado\")\n",
    "else:\n",
    "    print(f\"media = {media} reprovado\")"
   ]
  },
  {
   "cell_type": "markdown",
   "metadata": {},
   "source": [
    "6. 7. Faça um Programa que leia três números e mostre o maior e o menor deles.\n",
    " "
   ]
  },
  {
   "cell_type": "code",
   "execution_count": 31,
   "metadata": {},
   "outputs": [
    {
     "name": "stdout",
     "output_type": "stream",
     "text": [
      "os números são iguais a 5\n"
     ]
    }
   ],
   "source": [
    "a = int(input('digite um número para a: '))\n",
    "b = int(input('digite um número para b: '))\n",
    "c = int(input('digite um número para c: '))\n",
    "\n",
    "if(a > b and a > c):\n",
    "    maior = a\n",
    "elif(b > a and b > c):\n",
    "    maior = b\n",
    "elif(c > a and c > b):\n",
    "    maior = c\n",
    "else:\n",
    "    maior = a\n",
    "\n",
    "\n",
    "if(a < b and a < c):\n",
    "    menor = a\n",
    "elif(b < a and b < c):\n",
    "    menor = b\n",
    "elif(c < a and c < b):\n",
    "    menor = c\n",
    "else:\n",
    "    menor = a\n",
    "\n",
    "if(maior>menor):\n",
    "    print(f\"o maior numero é {maior} e o menor número é {menor}\")\n",
    "else:\n",
    "    print(f\"os números são iguais a {a}\")"
   ]
  }
 ],
 "metadata": {
  "kernelspec": {
   "display_name": "Python 3",
   "language": "python",
   "name": "python3"
  },
  "language_info": {
   "codemirror_mode": {
    "name": "ipython",
    "version": 3
   },
   "file_extension": ".py",
   "mimetype": "text/x-python",
   "name": "python",
   "nbconvert_exporter": "python",
   "pygments_lexer": "ipython3",
   "version": "3.12.1"
  }
 },
 "nbformat": 4,
 "nbformat_minor": 2
}
