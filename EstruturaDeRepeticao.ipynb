{
 "cells": [
  {
   "cell_type": "markdown",
   "metadata": {},
   "source": [
    "1. Faça um programa que peça uma nota, entre zero e dez. Mostre uma mensagem caso o valor seja inválido e continue pedindo até que o usuário informe um valor válido."
   ]
  },
  {
   "cell_type": "code",
   "execution_count": 6,
   "metadata": {},
   "outputs": [
    {
     "name": "stdout",
     "output_type": "stream",
     "text": [
      "Sua nota está incorreta\n",
      "sua nota é 6\n"
     ]
    }
   ],
   "source": [
    "x = -1\n",
    "while(x < 0 or x > 10):\n",
    "    x = int(input(\"informe uma nota de 0 a 10: \"))\n",
    "    if(x < 0 or x > 10):\n",
    "        print(\"Sua nota está incorreta\")\n",
    "    else:\n",
    "        print(f\"sua nota é {x}\")\n",
    "\n"
   ]
  },
  {
   "cell_type": "markdown",
   "metadata": {},
   "source": [
    "2. Faça um programa que leia um nome de usuário e a sua senha e não aceite a senha igual ao nome do usuário, mostrando uma mensagem de erro e voltando a pedir as informações."
   ]
  },
  {
   "cell_type": "code",
   "execution_count": 7,
   "metadata": {},
   "outputs": [],
   "source": [
    "usuario = input(\"Informe um nome para usuario: \")\n",
    "senha = input(\"Informe uma senha: \")\n",
    "\n",
    "while(usuario==senha):\n",
    "    senha = input(\"sua senha não pode ser igual ao seu nome, informe outra senha: \")"
   ]
  },
  {
   "cell_type": "markdown",
   "metadata": {},
   "source": [
    "3. Faça um programa que leia e valide as seguintes informações:\n",
    "Nome: maior que 3 caracteres;\n",
    "Idade: entre 0 e 150;\n",
    "Salário: maior que zero;\n",
    "Sexo: 'f','m' ou o;\n",
    "Estado Civil: 's', 'c', 'v', 'd';"
   ]
  },
  {
   "cell_type": "code",
   "execution_count": 8,
   "metadata": {},
   "outputs": [],
   "source": [
    "nome = input(\"informe um nome maior que 3 caracteres;\")\n",
    "while(len(nome)<=3):\n",
    "    nome = input(\"nome incorreto, informe novamente: \")\n",
    "\n",
    "idade = int(input(\"Digite sua idade: (entre 0 e 150)\"))\n",
    "while(idade < 0 or idade > 150):\n",
    "    idade = int(input(\"Idade incorreta, informe a idade novamente entre 0 e 150\"))\n",
    "\n",
    "salario = float(input(\"informe seu salário\"))\n",
    "while(salario < 0):\n",
    "    salario = float(input(\"O salario deve ser maior que 0: \"))\n",
    "\n",
    "genero = input(\"Informe seu genero, 'f', 'm' ou 'o' para outros\")\n",
    "while(genero not in ['f','m','o']):\n",
    "    genero = input('genero incorreto, informe novamente: ')\n",
    "\n",
    "estado_civil = input(\"informe seu estado civil ('s', 'c', 'v', 'd')\")\n",
    "while(estado_civil not in ['s', 'c', 'v', 'd']):\n",
    "    estado_civil = input(\"Estado civil incorreto, informe novamente: \")\n",
    "\n",
    "\n",
    "    \n",
    "        "
   ]
  },
  {
   "cell_type": "markdown",
   "metadata": {},
   "source": [
    "4. Supondo que a população de um país A seja da ordem de 80000 habitantes com uma taxa anual de crescimento de 3% e que a população de B seja 200000 habitantes com uma taxa de crescimento de 1.5%. Faça um programa que calcule e escreva o número de anos necessários para que a população do país A ultrapasse ou iguale a população do país B, mantidas as taxas de crescimento."
   ]
  },
  {
   "cell_type": "code",
   "execution_count": 13,
   "metadata": {},
   "outputs": [
    {
     "name": "stdout",
     "output_type": "stream",
     "text": [
      "População de A: 515033, população de B: 510964, quantidade de anos: 63\n"
     ]
    }
   ],
   "source": [
    "a = 80000\n",
    "taxa_a = 0.03\n",
    "b = 200000\n",
    "taxa_b = 0.015\n",
    "anos = 0\n",
    "\n",
    "while(a<b):\n",
    "    a = a + (a*taxa_a)\n",
    "    b = b + (b*taxa_b)\n",
    "    anos = anos + 1\n",
    "\n",
    "print(f\"População de A: {int(a)}, população de B: {int(b)}, quantidade de anos necessario: {anos}\")"
   ]
  },
  {
   "cell_type": "markdown",
   "metadata": {},
   "source": [
    "5. Altere o programa anterior permitindo ao usuário informar as populações e as taxas de crescimento iniciais. Valide a entrada e permita repetir a operação."
   ]
  },
  {
   "cell_type": "code",
   "execution_count": 17,
   "metadata": {},
   "outputs": [
    {
     "name": "stdout",
     "output_type": "stream",
     "text": [
      "A população A já é maior que a população B\n"
     ]
    }
   ],
   "source": [
    "a = int(input(\"Informe a quantidade inicial da população A\"))\n",
    "taxa_a = float(input(\"Informe a taxa de crescimento da população A\"))/100\n",
    "b = int(input(\"Informe a quantidade inicial da população B\"))\n",
    "taxa_b = float(input(\"Informe a taxa de crescimento da população A\"))/100\n",
    "anos = 0\n",
    "\n",
    "if(a>=b):\n",
    "    print(\"A população A já é maior que a população B\")\n",
    "else:\n",
    "    while(a<b):\n",
    "        a = a + (a*taxa_a)\n",
    "        b = b + (b*taxa_b)\n",
    "        anos = anos + 1\n",
    "    print(f\"População de A: {int(a)}, população de B: {int(b)}, quantidade de anos necessario: {anos}\")"
   ]
  },
  {
   "cell_type": "markdown",
   "metadata": {},
   "source": [
    "6. Faça um programa que imprima na tela os números de 1 a 20, um abaixo do outro. Depois modifique o programa para que ele mostre os números um ao lado do outro."
   ]
  },
  {
   "cell_type": "code",
   "execution_count": 19,
   "metadata": {},
   "outputs": [
    {
     "name": "stdout",
     "output_type": "stream",
     "text": [
      "1\n",
      "2\n",
      "3\n",
      "4\n",
      "5\n",
      "6\n",
      "7\n",
      "8\n",
      "9\n",
      "10\n",
      "11\n",
      "12\n",
      "13\n",
      "14\n",
      "15\n",
      "16\n",
      "17\n",
      "18\n",
      "19\n",
      "20\n",
      "[1, 2, 3, 4, 5, 6, 7, 8, 9, 10, 11, 12, 13, 14, 15, 16, 17, 18, 19, 20]\n"
     ]
    }
   ],
   "source": [
    "numeros = []\n",
    "for n in range(20):\n",
    "    print(n+1)\n",
    "    numeros.append(n+1)\n",
    "\n",
    "print(numeros)"
   ]
  },
  {
   "cell_type": "markdown",
   "metadata": {},
   "source": [
    "7. Faça um programa que leia 5 números e informe o maior número.\n",
    "8. Faça um programa que leia 5 números e informe a soma e a média dos números."
   ]
  },
  {
   "cell_type": "code",
   "execution_count": 22,
   "metadata": {},
   "outputs": [
    {
     "name": "stdout",
     "output_type": "stream",
     "text": [
      "maior: 9\n",
      "menor: 1\n",
      "media: 5.2\n"
     ]
    }
   ],
   "source": [
    "numeros = []\n",
    "maior = 0\n",
    "menor = 0\n",
    "for n in range(5):\n",
    "    numeros.append(int(input(\"Informe um número: \")))\n",
    "    if(n!=0):\n",
    "        if(maior < numeros[n]):\n",
    "            maior = numeros[n]\n",
    "        if(menor > numeros[n]):\n",
    "            menor = numeros[n]\n",
    "    else:\n",
    "        maior = numeros[0]\n",
    "        menor = numeros[0]\n",
    "\n",
    "media = sum(numeros)/5\n",
    "print(f\"maior: {maior}\\nmenor: {menor}\\nmedia: {media}\")\n"
   ]
  },
  {
   "cell_type": "markdown",
   "metadata": {},
   "source": [
    "9. Faça um programa que imprima na tela apenas os números ímpares entre 1 e 50."
   ]
  },
  {
   "cell_type": "code",
   "execution_count": 23,
   "metadata": {},
   "outputs": [
    {
     "name": "stdout",
     "output_type": "stream",
     "text": [
      "[1, 3, 5, 7, 9, 11, 13, 15, 17, 19, 21, 23, 25, 27, 29, 31, 33, 35, 37, 39, 41, 43, 45, 47, 49]\n"
     ]
    }
   ],
   "source": [
    "impares = []\n",
    "for n in range(1,50,2): ## start, stop, step\n",
    "    impares.append(n)\n",
    "print(impares)\n",
    "    "
   ]
  },
  {
   "cell_type": "markdown",
   "metadata": {},
   "source": [
    "10. Faça um programa que receba dois números inteiros e gere os números inteiros que estão no intervalo compreendido por eles.\n"
   ]
  },
  {
   "cell_type": "code",
   "execution_count": 26,
   "metadata": {},
   "outputs": [
    {
     "name": "stdout",
     "output_type": "stream",
     "text": [
      "[]\n"
     ]
    }
   ],
   "source": [
    "a = int(input(\"Informe um numero inteiro: \"))\n",
    "b = int(input(\"Informe outro numero inteiro: \"))\n",
    "numeros = []\n",
    "\n",
    "for n in range(a,b+1):\n",
    "    numeros.append(n)\n",
    "print(numeros)"
   ]
  }
 ],
 "metadata": {
  "kernelspec": {
   "display_name": "Python 3",
   "language": "python",
   "name": "python3"
  },
  "language_info": {
   "codemirror_mode": {
    "name": "ipython",
    "version": 3
   },
   "file_extension": ".py",
   "mimetype": "text/x-python",
   "name": "python",
   "nbconvert_exporter": "python",
   "pygments_lexer": "ipython3",
   "version": "3.12.1"
  }
 },
 "nbformat": 4,
 "nbformat_minor": 2
}
